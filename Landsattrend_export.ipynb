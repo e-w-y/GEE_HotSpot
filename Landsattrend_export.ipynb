{
 "cells": [
  {
   "cell_type": "code",
   "execution_count": null,
   "id": "9a4dee71",
   "metadata": {},
   "outputs": [],
   "source": [
    "import ee#, eemont\n",
    "#ee.Authenticate()\n",
    "ee.Initialize()"
   ]
  },
  {
   "cell_type": "code",
   "execution_count": null,
   "id": "ee544e6a",
   "metadata": {},
   "outputs": [],
   "source": [
    "import geemap\n",
    "from importlib import reload  "
   ]
  },
  {
   "cell_type": "code",
   "execution_count": null,
   "id": "3b7533a0",
   "metadata": {},
   "outputs": [],
   "source": [
    "from modules import high_level_functions\n",
    "from modules import utils_Landsat_SR as utils_LS\n",
    "from modules import ms_indices as indices\n",
    "from modules import configs, utils_string"
   ]
  },
  {
   "cell_type": "code",
   "execution_count": null,
   "id": "7aa36843",
   "metadata": {},
   "outputs": [],
   "source": [
    "utils_string = reload(utils_string)"
   ]
  },
  {
   "cell_type": "code",
   "execution_count": null,
   "id": "41bb1e42",
   "metadata": {},
   "outputs": [],
   "source": [
    "# PROPERTIES\n",
    "# SET METADATA PARAMETERS\n",
    "MAXCLOUD = 70\n",
    "STARTYEAR = 2001\n",
    "ENDYEAR = 2020\n",
    "STARTMONTH = 7\n",
    "ENDMONTH = 8\n",
    "SCALE = 30\n",
    "longitudes = [-140]\n",
    "latitudes = [65]\n",
    "SIZE_LON = 1\n",
    "SIZE_LAT = 1\n",
    "\n",
    "target_collection = 'users/ingmarnitze/TCTrend_SR_2001-2020_TCVIS'\n",
    "target_collection_nObs = 'users/ingmarnitze/TCTrend_SR_2001-2020_nObservations'"
   ]
  },
  {
   "cell_type": "code",
   "execution_count": null,
   "id": "bf2dea71",
   "metadata": {},
   "outputs": [],
   "source": [
    "# image metadata Filters\n",
    "config_trend = {\n",
    "  'date_filter_yr' : ee.Filter.calendarRange(STARTYEAR, ENDYEAR, 'year'),\n",
    "  'date_filter_mth' : ee.Filter.calendarRange(STARTMONTH, ENDMONTH, 'month'),\n",
    "  'meta_filter_cld' : ee.Filter.lt('CLOUD_COVER', MAXCLOUD),\n",
    "  'select_bands_visible' : [\"B1\", \"B2\",\"B3\",\"B4\"],\n",
    "  'select_indices' : [\"TCB\", \"TCG\", \"TCW\", \"NDVI\", \"NDMI\", \"NDWI\"],\n",
    "  'select_TCtrend_bands' : [\"TCB_slope\", \"TCG_slope\", \"TCW_slope\"],\n",
    "  'geom' : None\n",
    "}\n",
    "#------ RUN FULL PROCESS FOR ALL REGIONS IN LOOP ------------------------------\n",
    "#Map.addLayer(imageCollection, {}, 'TCVIS')"
   ]
  },
  {
   "cell_type": "code",
   "execution_count": null,
   "id": "dc1a956b",
   "metadata": {},
   "outputs": [],
   "source": [
    "Map = geemap.Map()\n",
    "#Map.addLayer(geom)"
   ]
  },
  {
   "cell_type": "code",
   "execution_count": null,
   "id": "30d8987e",
   "metadata": {},
   "outputs": [],
   "source": [
    "RUN = 0"
   ]
  },
  {
   "cell_type": "code",
   "execution_count": null,
   "id": "f8587f72",
   "metadata": {},
   "outputs": [],
   "source": [
    "for lowLat in latitudes:\n",
    "    for leftLon in longitudes:\n",
    "        \n",
    "        \n",
    "        # check for Hemisphere\n",
    "        if lowLat < 0:\n",
    "            sizeLat = SIZE_LAT * -1\n",
    "        else:\n",
    "            sizeLat = SIZE_LAT\n",
    "            \n",
    "        sizeLon = SIZE_LON\n",
    "        \n",
    "        # create Bounding Box\n",
    "        geom = ee.Geometry.Polygon([leftLon,lowLat+sizeLat, leftLon, lowLat, leftLon+sizeLon, lowLat, leftLon+sizeLon, lowLat+sizeLat])\n",
    "        config_trend['geom'] = geom\n",
    "        Map.addLayer(geom,{}, str(lowLat))\n",
    "\n",
    "        assetname_new = utils_string.make_TCTrendAssetNameSR(leftLon, lowLat, STARTYEAR, ENDYEAR)\n",
    "        assetname_nObs = assetname_new + '_nObservations'\n",
    "\n",
    "        # Calculate Trend\n",
    "        trend = high_level_functions.runTCTrend(config_trend)\n"
   ]
  },
  {
   "cell_type": "code",
   "execution_count": null,
   "id": "176c04d8",
   "metadata": {},
   "outputs": [],
   "source": [
    "Map.add_basemap(basemap='SATELLITE')"
   ]
  },
  {
   "cell_type": "code",
   "execution_count": null,
   "id": "e1dd6359",
   "metadata": {},
   "outputs": [],
   "source": [
    "Map.addLayer(geom,{}, str(lowLat))"
   ]
  },
  {
   "cell_type": "code",
   "execution_count": null,
   "id": "74a70102",
   "metadata": {},
   "outputs": [],
   "source": [
    "Map.addLayer(trend['data'].select('NDVI.*'))"
   ]
  },
  {
   "cell_type": "code",
   "execution_count": null,
   "id": "1e138a3d",
   "metadata": {},
   "outputs": [],
   "source": [
    "Map"
   ]
  },
  {
   "cell_type": "code",
   "execution_count": null,
   "id": "d6461ca6",
   "metadata": {},
   "outputs": [],
   "source": []
  },
  {
   "cell_type": "code",
   "execution_count": null,
   "id": "aa3a6dcc",
   "metadata": {},
   "outputs": [],
   "source": [
    "data"
   ]
  },
  {
   "cell_type": "code",
   "execution_count": null,
   "id": "b24969ce",
   "metadata": {},
   "outputs": [],
   "source": [
    "data = trend['data'].select('NDVI.*')\n",
    "task = ee.batch.Export.image.toDrive(\n",
    "    image=data,\n",
    "    description='image_ndvi',\n",
    "    folder='PDG_Trend',\n",
    "    fileNamePrefix='image_ndvi',\n",
    "    region=geom,\n",
    "    scale=30,\n",
    "    maxPixels=1e12)"
   ]
  },
  {
   "cell_type": "code",
   "execution_count": null,
   "id": "a3eec64b",
   "metadata": {},
   "outputs": [],
   "source": [
    "task.start()"
   ]
  }
 ],
 "metadata": {
  "kernelspec": {
   "display_name": "Python 3 (ipykernel)",
   "language": "python",
   "name": "python3"
  },
  "language_info": {
   "codemirror_mode": {
    "name": "ipython",
    "version": 3
   },
   "file_extension": ".py",
   "mimetype": "text/x-python",
   "name": "python",
   "nbconvert_exporter": "python",
   "pygments_lexer": "ipython3",
   "version": "3.8.12"
  }
 },
 "nbformat": 4,
 "nbformat_minor": 5
}
