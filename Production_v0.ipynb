{
 "cells": [
  {
   "cell_type": "code",
   "execution_count": 4,
   "id": "9a4dee71",
   "metadata": {},
   "outputs": [],
   "source": [
    "import ee, eemont\n",
    "#ee.Authenticate()\n",
    "ee.Initialize()"
   ]
  },
  {
   "cell_type": "code",
   "execution_count": 5,
   "id": "ee544e6a",
   "metadata": {},
   "outputs": [],
   "source": [
    "import geemap\n",
    "from importlib import reload  "
   ]
  },
  {
   "cell_type": "code",
   "execution_count": 6,
   "id": "3b7533a0",
   "metadata": {},
   "outputs": [],
   "source": [
    "from modules import high_level_functions\n",
    "from modules import utils_Landsat_SR as utils_LS\n",
    "from modules import ms_indices as indices\n",
    "from modules import configs, utils_string"
   ]
  },
  {
   "cell_type": "code",
   "execution_count": 7,
   "id": "7aa36843",
   "metadata": {},
   "outputs": [],
   "source": [
    "utils_string = reload(utils_string)"
   ]
  },
  {
   "cell_type": "code",
   "execution_count": 83,
   "id": "41bb1e42",
   "metadata": {},
   "outputs": [],
   "source": [
    "# PROPERTIES\n",
    "# SET METADATA PARAMETERS\n",
    "MAXCLOUD = 70\n",
    "STARTYEAR = 2001\n",
    "ENDYEAR = 2020\n",
    "STARTMONTH = 7\n",
    "ENDMONTH = 8\n",
    "SCALE = 30\n",
    "longitudes = [10]\n",
    "latitudes = [45]\n",
    "SIZE_LON = 10\n",
    "SIZE_LAT = 5\n",
    "\n",
    "target_collection = 'users/ingmarnitze/TCTrend_SR_2001-2020_TCVIS'\n",
    "target_collection_nObs = 'users/ingmarnitze/TCTrend_SR_2001-2020_nObservations'"
   ]
  },
  {
   "cell_type": "code",
   "execution_count": 84,
   "id": "bf2dea71",
   "metadata": {},
   "outputs": [],
   "source": [
    "# image metadata Filters\n",
    "config_trend = {\n",
    "  'date_filter_yr' : ee.Filter.calendarRange(STARTYEAR, ENDYEAR, 'year'),\n",
    "  'date_filter_mth' : ee.Filter.calendarRange(STARTMONTH, ENDMONTH, 'month'),\n",
    "  'meta_filter_cld' : ee.Filter.lt('CLOUD_COVER', MAXCLOUD),\n",
    "  'select_bands_visible' : [\"B1\", \"B2\",\"B3\",\"B4\"],\n",
    "  'select_indices' : [\"TCB\", \"TCG\", \"TCW\"],\n",
    "  'select_TCtrend_bands' : [\"TCB_slope\", \"TCG_slope\", \"TCW_slope\"],\n",
    "  'geom' : None\n",
    "}\n",
    "#------ RUN FULL PROCESS FOR ALL REGIONS IN LOOP ------------------------------\n",
    "#Map.addLayer(imageCollection, {}, 'TCVIS')"
   ]
  },
  {
   "cell_type": "code",
   "execution_count": 85,
   "id": "30d8987e",
   "metadata": {},
   "outputs": [],
   "source": [
    "RUN = 1"
   ]
  },
  {
   "cell_type": "code",
   "execution_count": 86,
   "id": "f8587f72",
   "metadata": {},
   "outputs": [],
   "source": [
    "for lowLat in latitudes:\n",
    "    for leftLon in longitudes:\n",
    "        \n",
    "        \n",
    "        # check for Hemisphere\n",
    "        if lowLat < 0:\n",
    "            sizeLat = SIZE_LAT * -1\n",
    "        else:\n",
    "            sizeLat = SIZE_LAT\n",
    "            \n",
    "        sizeLon = SIZE_LON\n",
    "        \n",
    "        # create Bounding Box\n",
    "        geom = ee.Geometry.Polygon([leftLon,lowLat+sizeLat, leftLon, lowLat, leftLon+sizeLon, lowLat, leftLon+sizeLon, lowLat+sizeLat])\n",
    "        config_trend['geom'] = geom\n",
    "        Map.addLayer(geom,{}, str(lowLat))\n",
    "\n",
    "        assetname_new = utils_string.make_TCTrendAssetNameSR(leftLon, lowLat, STARTYEAR, ENDYEAR)\n",
    "        assetname_nObs = assetname_new + '_nObservations'\n",
    "\n",
    "        # Calculate Trend\n",
    "        trend = high_level_functions.runTCTrend(config_trend)\n",
    "        if RUN:\n",
    "            task = ee.batch.Export.image.toAsset(\n",
    "                image=trend['visual'],\n",
    "                description=assetname_new,\n",
    "                assetId=target_collection + '/' + assetname_new,\n",
    "                scale=SCALE,\n",
    "                region=geom,\n",
    "                maxPixels=1e12)\n",
    "\n",
    "            task.start()\n",
    "\n",
    "            task = ee.batch.Export.image.toAsset(\n",
    "                image=trend['n_observations'],\n",
    "                description=assetname_nObs,\n",
    "                assetId=target_collection_nObs + '/' + assetname_nObs,\n",
    "                scale=SCALE,\n",
    "                region=geom,\n",
    "                maxPixels=1e12)\n",
    "\n",
    "            task.start()\n"
   ]
  },
  {
   "cell_type": "code",
   "execution_count": 87,
   "id": "db957263",
   "metadata": {},
   "outputs": [
    {
     "data": {
      "text/plain": [
       "{'state': 'READY',\n",
       " 'description': 'TCTrend_SR_E010N45_2001-2020_TCVIS_nObservations',\n",
       " 'creation_timestamp_ms': 1632991788477,\n",
       " 'update_timestamp_ms': 1632991788477,\n",
       " 'start_timestamp_ms': 0,\n",
       " 'task_type': 'EXPORT_IMAGE',\n",
       " 'id': 'WFQBFYDDBAYUJM4BTD4F775E',\n",
       " 'name': 'projects/earthengine-legacy/operations/WFQBFYDDBAYUJM4BTD4F775E'}"
      ]
     },
     "execution_count": 87,
     "metadata": {},
     "output_type": "execute_result"
    }
   ],
   "source": [
    "task.status()"
   ]
  },
  {
   "cell_type": "code",
   "execution_count": 39,
   "id": "dc1a956b",
   "metadata": {},
   "outputs": [],
   "source": [
    "Map = geemap.Map()\n",
    "Map.addLayer(geom)"
   ]
  },
  {
   "cell_type": "code",
   "execution_count": 50,
   "id": "d47325ec",
   "metadata": {},
   "outputs": [],
   "source": [
    "Map.addLayer(ee.ImageCollection(target_collection[:-1]))"
   ]
  },
  {
   "cell_type": "code",
   "execution_count": 54,
   "id": "176c04d8",
   "metadata": {},
   "outputs": [],
   "source": [
    "Map.add_basemap(basemap='SATELLITE')"
   ]
  },
  {
   "cell_type": "code",
   "execution_count": 67,
   "id": "e1dd6359",
   "metadata": {},
   "outputs": [],
   "source": [
    "Map.addLayer(geom,{}, str(lowLat))"
   ]
  },
  {
   "cell_type": "code",
   "execution_count": 68,
   "id": "74a70102",
   "metadata": {},
   "outputs": [
    {
     "data": {
      "application/vnd.jupyter.widget-view+json": {
       "model_id": "3f69ebcff85a405c98fdb59a88d7d0fd",
       "version_major": 2,
       "version_minor": 0
      },
      "text/plain": [
       "Map(bottom=19624.0, center=[-30.713503990354965, 20.978095751290322], controls=(WidgetControl(options=['positi…"
      ]
     },
     "metadata": {},
     "output_type": "display_data"
    }
   ],
   "source": [
    "Map"
   ]
  },
  {
   "cell_type": "code",
   "execution_count": null,
   "id": "d6461ca6",
   "metadata": {},
   "outputs": [],
   "source": []
  }
 ],
 "metadata": {
  "kernelspec": {
   "display_name": "Python 3 (ipykernel)",
   "language": "python",
   "name": "python3"
  },
  "language_info": {
   "codemirror_mode": {
    "name": "ipython",
    "version": 3
   },
   "file_extension": ".py",
   "mimetype": "text/x-python",
   "name": "python",
   "nbconvert_exporter": "python",
   "pygments_lexer": "ipython3",
   "version": "3.8.11"
  }
 },
 "nbformat": 4,
 "nbformat_minor": 5
}
